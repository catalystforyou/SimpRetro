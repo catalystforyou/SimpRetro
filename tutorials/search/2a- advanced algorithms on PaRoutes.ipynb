{
 "cells": [
  {
   "cell_type": "markdown",
   "id": "db86ceb7-d2df-40d9-9bbb-f437d6114259",
   "metadata": {},
   "source": [
    "# Overview\n",
    "\n",
    "This is the first part of a 2 part tutorial which runs the PaRoutes benchmark.\n",
    "In this half of the tutorial, we run search algorithms using a pre-trained reaction model.\n",
    "Because these algorithms require policies and value functions,\n",
    "these must be carefully chosen before running the algorithm.\n",
    "\n",
    "**NOTE:** the PaRoutes reaction model requires the following additional packages:\n",
    "- `pandas` (to load data table)\n",
    "- `rdchiral` (to apply reaction templates)\n",
    "- `keras` (their pre-trained model is a template-classification model using keras)\n",
    "\n",
    "The model also requires some data files, which can be downloaded with `paroutes_setup.sh`.",
    "Running the following commands should set up everything:\n",
    "\n",
    "```\n",
    "pip install -U tensorflow keras\n",
    "conda install -c conda-forge rdchiral_cpp  # faster C++ version\n",
    "conda install -c conda-forge pandas\n",
    "cd tutorials/search  # need to be in this directory for the setup script to run correctly\n",
    "bash paroutes_setup.sh\n",
    "```"
   ]
  },
  {
   "cell_type": "markdown",
   "id": "9dbc23a9-f0cd-4619-97c9-c24bdae7025e",
   "metadata": {},
   "source": [
    "## Imports"
   ]
  },
  {
   "cell_type": "code",
   "execution_count": 1,
   "id": "8160f287-de1e-46f4-a255-6e62aab0a460",
   "metadata": {},
   "outputs": [],
   "source": [
    "from __future__ import annotations\n",
    "import math\n",
    "import pprint"
   ]
  },
  {
   "cell_type": "code",
   "execution_count": 2,
   "id": "b4bd66f4-7c84-4ee7-870e-0b580443c61c",
   "metadata": {},
   "outputs": [],
   "source": [
    "from syntheseus.search.chem import Molecule, BackwardReaction"
   ]
  },
  {
   "cell_type": "markdown",
   "id": "23fcbd26-c250-4d39-a92b-f0dd14e2f36f",
   "metadata": {},
   "source": [
    "## Step 0: make 2 example molecules for testing"
   ]
  },
  {
   "cell_type": "code",
   "execution_count": 3,
   "id": "20295725-3f0c-4feb-8863-63f8658a6f1a",
   "metadata": {},
   "outputs": [
    {
     "data": {
      "text/plain": [
       "(Molecule(smiles='c1ccccc1', identifier=None, metadata={}),\n",
       " Molecule(smiles='CCCCCCCCCC', identifier=None, metadata={}))"
      ]
     },
     "execution_count": 3,
     "metadata": {},
     "output_type": "execute_result"
    }
   ],
   "source": [
    "benzene = Molecule(\"c1ccccc1\", make_rdkit_mol=False)\n",
    "decane = Molecule(\"C\"*10, make_rdkit_mol=False)\n",
    "benzene, decane"
   ]
  },
  {
   "cell_type": "markdown",
   "id": "e470b5bb-ae52-40c4-a342-10af36be9a74",
   "metadata": {},
   "source": [
    "## Step 1: load PaRoutes mol-inventory and reaction model\n",
    "\n",
    "PaRoutes has two tasks: `n=1` and `n=5`.\n",
    "This notebook uses the `n=5` task by default,\n",
    "but this can be changed with the variable `PAROUTES_N`.\n",
    "We use version 2.0 of this benchmark which was released in late 2022.\n",
    "\n",
    "The file `paroutes.py` which accompanies this notebook contains wrappers for the pre-trained reaction models and sets of purchasable molecules.\n",
    "We load these below and briefly explore their properties."
   ]
  },
  {
   "cell_type": "code",
   "execution_count": 4,
   "id": "5b060b2c-83d2-4a00-a303-ab7a5b77f21b",
   "metadata": {},
   "outputs": [
    {
     "name": "stderr",
     "output_type": "stream",
     "text": []
    }
   ],
   "source": [
    "import paroutes\n",
    "PAROUTES_N = 5"
   ]
  },
  {
   "cell_type": "markdown",
   "id": "74baf3d7-1d3c-4c1e-9b24-b2de62cd072e",
   "metadata": {},
   "source": [
    "#### 1a: load PaRoutes standardized mol inventory"
   ]
  },
  {
   "cell_type": "code",
   "execution_count": 5,
   "id": "9e8d0b43-bd7a-40b0-b327-3edb00a63407",
   "metadata": {},
   "outputs": [
    {
     "name": "stdout",
     "output_type": "stream",
     "text": [
      "Size of inventory: 13325\n",
      "First few molecules in inventory:\n",
      "[Molecule(smiles='Cc1cc(C(C)N)cnc1OCC(F)(F)F', identifier=None, metadata={}),\n",
      " Molecule(smiles='N#CC1Cc2ccc(Nc3ccncc3[N+](=O)[O-])cc2C1',\n",
      "          identifier=None,\n",
      "          metadata={}),\n",
      " Molecule(smiles='COC=CC1CCCOC1', identifier=None, metadata={}),\n",
      " Molecule(smiles='CC(O)c1cccc(NCC(=O)OC(C)(C)C)n1',\n",
      "          identifier=None,\n",
      "          metadata={}),\n",
      " Molecule(smiles='CC(C)C[C@@H](C(=O)O)N(C)C(=O)OC(C)(C)C',\n",
      "          identifier=None,\n",
      "          metadata={})]\n"
     ]
    }
   ],
   "source": [
    "# Load the inventory and look at the first few mols\n",
    "inventory = paroutes.PaRoutesInventory(n=PAROUTES_N)\n",
    "print(f\"Size of inventory: {len(inventory.purchasable_mols())}\")\n",
    "print(\"First few molecules in inventory:\")\n",
    "pprint.pprint(list(inventory.purchasable_mols())[:5])"
   ]
  },
  {
   "cell_type": "code",
   "execution_count": 6,
   "id": "b1e8c7b7-ee82-452a-bfd6-2b23a1d30f6e",
   "metadata": {},
   "outputs": [
    {
     "data": {
      "text/plain": [
       "(Molecule(smiles='c1ccccc1', identifier=None, metadata={'is_purchasable': True}),\n",
       " Molecule(smiles='CCCCCCCCCC', identifier=None, metadata={'is_purchasable': False}))"
      ]
     },
     "execution_count": 6,
     "metadata": {},
     "output_type": "execute_result"
    }
   ],
   "source": [
    "# Example: Use the inventory to label some molecules\n",
    "# We find out that benzene is purchasable and decane is not\n",
    "inventory.fill_metadata(benzene)\n",
    "inventory.fill_metadata(decane)\n",
    "benzene, decane"
   ]
  },
  {
   "cell_type": "markdown",
   "id": "1876bb42-3d95-4104-8b43-3caf1179d1de",
   "metadata": {},
   "source": [
    "#### 1b: load PaRoutes reaction model and look at outputs"
   ]
  },
  {
   "cell_type": "code",
   "execution_count": 7,
   "id": "b101e2c0-be72-4d2a-b12e-d182aaa304fc",
   "metadata": {},
   "outputs": [
    {
     "name": "stdout",
     "output_type": "stream",
     "text": [
      "Output type: <class 'list'>, len: 2\n"
     ]
    }
   ],
   "source": [
    "# Load the reaction model, which is a template classifier\n",
    "rxn_model = paroutes.PaRoutesModel()\n",
    "\n",
    "# Example: call it on benzene and decane.\n",
    "# Like all reaction models, it returns a list of reaction lists (1 per input molecule)\n",
    "rxn_model_output = rxn_model([benzene, decane])\n",
    "print(f\"Output type: {type(rxn_model_output)}, len: {len(rxn_model_output)}\")"
   ]
  },
  {
   "cell_type": "code",
   "execution_count": 8,
   "id": "dbb7e430-7eab-4947-9446-c34a2e6ad486",
   "metadata": {},
   "outputs": [
    {
     "name": "stdout",
     "output_type": "stream",
     "text": [
      "Reaction #1 for mol #1:\n",
      "BackwardReaction(reactants=frozenset({Molecule(smiles='Nc1ccccc1',\n",
      "                                               identifier=None,\n",
      "                                               metadata={})}),\n",
      "                 product=Molecule(smiles='c1ccccc1',\n",
      "                                  identifier=None,\n",
      "                                  metadata={'is_purchasable': True}),\n",
      "                 identifier=None,\n",
      "                 metadata={'softmax': 0.05530696362257004,\n",
      "                           'template': '[c:2]:[cH;D2;+0:1]:[c:3]>>N-[c;H0;D3;+0:1](:[c:2]):[c:3]',\n",
      "                           'template_idx': 15583,\n",
      "                           'template_library_occurence': 326,\n",
      "                           'template_rank': 0})\n",
      "\n",
      "Reaction #11 for mol #1:\n",
      "BackwardReaction(reactants=frozenset({Molecule(smiles='Brc1ccccc1',\n",
      "                                               identifier=None,\n",
      "                                               metadata={})}),\n",
      "                 product=Molecule(smiles='c1ccccc1',\n",
      "                                  identifier=None,\n",
      "                                  metadata={'is_purchasable': True}),\n",
      "                 identifier=None,\n",
      "                 metadata={'softmax': 0.0013848659582436085,\n",
      "                           'template': '[c:2]:[cH;D2;+0:1]:[c:3]>>Br-[c;H0;D3;+0:1](:[c:2]):[c:3]',\n",
      "                           'template_idx': 685,\n",
      "                           'template_library_occurence': 433,\n",
      "                           'template_rank': 34})\n",
      "\n"
     ]
    }
   ],
   "source": [
    "# Examine some sample reactions\n",
    "# Notice that the model includes a lot of metadata in the reaction objects,\n",
    "# not just the products and reactants.\n",
    "# Here, the metadata is the template used, the rank of the template and its softmax value,\n",
    "# and the number of times the template occurred in the training data\n",
    "for (i, j) in [(0, 0), (0, 10)]:\n",
    "    print(f\"Reaction #{j+1} for mol #{i+1}:\")\n",
    "    pprint.pprint(rxn_model_output[i][j])\n",
    "    print()"
   ]
  },
  {
   "cell_type": "markdown",
   "id": "6b95208e-ce3d-430d-a3d1-42867c345414",
   "metadata": {},
   "source": [
    "#### 1c: load list of target molecules for search"
   ]
  },
  {
   "cell_type": "code",
   "execution_count": 9,
   "id": "a27056ca-79cf-4ce1-a618-1a7310e50926",
   "metadata": {},
   "outputs": [
    {
     "data": {
      "text/plain": [
       "['COc1ccc(F)c(-c2ccc(COc3cc(C(CC(=O)O)C4CC4)ccc3F)nc2CC(C)(C)C)c1',\n",
       " 'CCc1cc2nncc(N3CCc4[nH]nc(C(=O)NC5CC5)c4C3)c2cc1OC',\n",
       " 'Clc1ccc(-n2cncn2)c(Cc2nc3c(NCCC4CCCCN4)nccc3o2)c1',\n",
       " 'CCOCc1nc2c(N)nc3ccc(O)cc3c2n1CC(C)(C)NS(C)(=O)=O',\n",
       " 'O=C(O)CCNC(=O)c1nc(-c2ccncc2)c2c(cc(-c3ccccc3)c(=O)n2CC2CCCCC2)c1O']"
      ]
     },
     "execution_count": 9,
     "metadata": {},
     "output_type": "execute_result"
    }
   ],
   "source": [
    "# List of target molecules to synthesize\n",
    "target_smiles_list = paroutes.get_target_smiles(n=PAROUTES_N)\n",
    "target_smiles_list[:5]"
   ]
  },
  {
   "cell_type": "markdown",
   "id": "3359f01d-ddd1-4ad9-857e-9b93c787c074",
   "metadata": {},
   "source": [
    "## Step 2: set up algorithms"
   ]
  },
  {
   "cell_type": "code",
   "execution_count": 10,
   "id": "f25c0a2a-9bbc-4692-a384-93eb219d3261",
   "metadata": {},
   "outputs": [],
   "source": [
    "RXN_MODEL_CALL_LIMIT = 100\n",
    "TIME_LIMIT_S = 300"
   ]
  },
  {
   "cell_type": "markdown",
   "id": "df4f6506-0dcd-4296-b590-994ea69e9fa3",
   "metadata": {},
   "source": [
    "### 2a: Retro-star\n",
    "\n",
    "Retro-star is a best-first search algorithm for AND/OR trees\n",
    "which tries to find minimum-cost routes.\n",
    "It requires 3 \"value functions\" to be provided to the algorithm.\n",
    "\n",
    "1. A function to give the cost of each molecule (OrNode)\n",
    "2. A function to give the cost of each reaction (AndNode)\n",
    "3. A function to estimate the minimum cost of leaf OrNodes (called the \"reaction number\" in the paper). This is effectively a value function in RL (except lower values are better)\n",
    "\n",
    "We will implement these using subclasses of `BaseNodeEvaluator` class from `syntheseus.search.node_evaluation`."
   ]
  },
  {
   "cell_type": "code",
   "execution_count": 11,
   "id": "29e52211-0eac-4467-92cd-b6bc3fe67fdf",
   "metadata": {},
   "outputs": [],
   "source": [
    "from syntheseus.search.algorithms.best_first import retro_star\n",
    "from syntheseus.search.graph.and_or import AndNode, OrNode, AndOrGraph\n",
    "from syntheseus.search.node_evaluation import BaseNodeEvaluator"
   ]
  },
  {
   "cell_type": "code",
   "execution_count": 12,
   "id": "c891cc66-016e-456b-ada5-5f9f980e07a2",
   "metadata": {},
   "outputs": [],
   "source": [
    "#1: OrNode cost function.\n",
    "# We will follow the paper and give molecules a cost of 0 if they are purchasable,\n",
    "# and a cost of infinity otherwise. This class is provided as a default in retro_star.\n",
    "# If purchasable molecules have non-zero costs then a different cost function could be used\n",
    "\n",
    "or_node_cost_fn = retro_star.MolIsPurchasableCost()"
   ]
  },
  {
   "cell_type": "code",
   "execution_count": 13,
   "id": "b6e6d682-756a-4dcd-931b-097b27ca0ddd",
   "metadata": {},
   "outputs": [],
   "source": [
    "#2: AndNode cost function\n",
    "# We will follow the original paper and define the cost of the reaction as the -log(softmax)\n",
    "# of the reaction model output, thresholded at a minimum value\n",
    "# This cost function is very specific to reactions from this particular reaction model though.\n",
    "\n",
    "class NegLogSoftmaxRxnCost(BaseNodeEvaluator[AndNode]):\n",
    "    def __call__(self, nodes: list[AndNode], graph: AndOrGraph=None) -> list[float]:\n",
    "        softmax_vals = [\n",
    "            node.reaction.metadata[\"softmax\"]\n",
    "            for node in nodes\n",
    "        ]\n",
    "        return [-math.log(max(val, 1e-4)) for val in softmax_vals]\n",
    "\n",
    "and_node_cost_fn = NegLogSoftmaxRxnCost()"
   ]
  },
  {
   "cell_type": "code",
   "execution_count": 14,
   "id": "ca316b02-b56f-41f8-b1dd-c814f8ad265b",
   "metadata": {},
   "outputs": [],
   "source": [
    "#3: value function\n",
    "# Here we just use a constant value function which is always 0,\n",
    "# corresponding to the \"retro*-0\" algorithm (the most optimistic)\n",
    "\n",
    "from syntheseus.search.node_evaluation.common import ConstantNodeEvaluator\n",
    "\n",
    "retro_star_value_function = ConstantNodeEvaluator(0.0)"
   ]
  },
  {
   "cell_type": "code",
   "execution_count": 15,
   "id": "578c26a3-340a-478e-9bfd-30528e28dfba",
   "metadata": {},
   "outputs": [],
   "source": [
    "# Set up algorithm\n",
    "retro_star_alg = retro_star.RetroStarSearch(\n",
    "    reaction_model=rxn_model,\n",
    "    mol_inventory=inventory,\n",
    "    or_node_cost_fn=or_node_cost_fn,\n",
    "    and_node_cost_fn=and_node_cost_fn,\n",
    "    value_function=retro_star_value_function,\n",
    "    limit_reaction_model_calls=RXN_MODEL_CALL_LIMIT,\n",
    "    time_limit_s=TIME_LIMIT_S,\n",
    ")"
   ]
  },
  {
   "cell_type": "markdown",
   "id": "628e9336-3263-4dc3-991b-f62b2c1e6ac4",
   "metadata": {},
   "source": [
    "### 2b: MCTS\n",
    "\n",
    "MCTS is an RL algorithm that tries to find routes of maximum value.\n",
    "Standard MCTS works on an MDP where states are sets of molecules\n",
    "and actions are backward reactions.\n",
    "MCTS requires 2 input functions, with an optional third.\n",
    "\n",
    "1. A _reward function_ which defines the rewards for terminal states\n",
    "2. A _value function_ which estimates the rewards attainable from a state\n",
    "3. (optional) a policy which assigns higher numbers to desirable actions\n",
    "\n",
    "We will implement these using subclasses of `BaseNodeEvaluator` class from `syntheseus.search.node_evaluation`."
   ]
  },
  {
   "cell_type": "code",
   "execution_count": 16,
   "id": "af997a32-1f39-4788-b88a-463d92b7c9c6",
   "metadata": {},
   "outputs": [],
   "source": [
    "from syntheseus.search.graph.molset import MolSetNode, MolSetGraph"
   ]
  },
  {
   "cell_type": "code",
   "execution_count": 17,
   "id": "aa02eecf-71c9-4f17-bc21-5df514e7d4a7",
   "metadata": {},
   "outputs": [],
   "source": [
    "#1: reward function\n",
    "# Here we use the most basic reward: 1.0 if a state is solved (all molecules are purchasable),\n",
    "# and 0.0 otherwise.\n",
    "from syntheseus.search.node_evaluation.common import HasSolutionValueFunction\n",
    "\n",
    "mcts_reward_function = HasSolutionValueFunction()"
   ]
  },
  {
   "cell_type": "code",
   "execution_count": 18,
   "id": "5bfd9f29-58af-4dc5-b760-20ee65979777",
   "metadata": {},
   "outputs": [],
   "source": [
    "#2: value function\n",
    "# while previous works have used rollouts,\n",
    "# for demonstration purposes we just use a constant value function of 0.5\n",
    "# (this number is chosen to be between the lowest and highest rewards of 0/1\n",
    "\n",
    "mcts_value_function = ConstantNodeEvaluator(0.5)"
   ]
  },
  {
   "cell_type": "code",
   "execution_count": 19,
   "id": "9db78293-5fbc-4d8f-9c3c-dfb3e3b3d3b5",
   "metadata": {},
   "outputs": [],
   "source": [
    "#3: policy\n",
    "# this could be anything, and would often be another neural network in RL.\n",
    "# However, for this example we just use the softmax values from the reaction model,\n",
    "# normalized by the total number of reactions\n",
    "# (note: this implementation will always call the policy on all of a node's children simultaneously)\n",
    "\n",
    "class MCTS_Reaction_Softmax_Policy(BaseNodeEvaluator[MolSetNode]):\n",
    "    def __call__(self, nodes: list[MolSetNode], graph: MolSetGraph=None) -> list[float]:\n",
    "        \n",
    "        # This policy requires accessing the underlying graph to get the reaction\n",
    "        assert graph is not None\n",
    "        non_normalized_softmaxes: list[float] = []\n",
    "        for node in nodes:\n",
    "            parent_nodes = list(graph.predecessors(node))\n",
    "            assert len(parent_nodes) == 1\n",
    "            parent_rxn: BackwardReaction = graph._graph.edges[parent_nodes[0], node][\"reaction\"]\n",
    "            non_normalized_softmaxes.append(parent_rxn.metadata[\"softmax\"])\n",
    "        \n",
    "        # Normalize the results\n",
    "        normalization_constant = sum(non_normalized_softmaxes)\n",
    "        return [v / normalization_constant for v in non_normalized_softmaxes]\n",
    "\n",
    "mcts_policy = MCTS_Reaction_Softmax_Policy()"
   ]
  },
  {
   "cell_type": "code",
   "execution_count": 20,
   "id": "4321240d-a248-4acb-9b28-706ef5bace14",
   "metadata": {},
   "outputs": [],
   "source": [
    "# Set up algorithm\n",
    "from syntheseus.search.algorithms.mcts.base import pucb_bound\n",
    "from syntheseus.search.algorithms.mcts.molset import MolSetMCTS\n",
    "mcts_alg = MolSetMCTS(\n",
    "    reaction_model=rxn_model,\n",
    "    mol_inventory=inventory,\n",
    "    reward_function=mcts_reward_function,\n",
    "    value_function=mcts_value_function,\n",
    "    policy=mcts_policy,\n",
    "    limit_reaction_model_calls=RXN_MODEL_CALL_LIMIT,\n",
    "    bound_constant=100.0,\n",
    "    bound_function=pucb_bound,\n",
    "    time_limit_s=TIME_LIMIT_S,\n",
    ")"
   ]
  },
  {
   "cell_type": "markdown",
   "id": "933ae569-8e5a-4109-876b-d4ebd18836eb",
   "metadata": {},
   "source": [
    "## Step 3: run algorithms and save results\n",
    "\n",
    "The main result needed for analysis is the output graph.\n",
    "We will save this as a pickle file and analyze this in the next notebook."
   ]
  },
  {
   "cell_type": "code",
   "execution_count": 21,
   "id": "656bb71b-fabe-4b34-99cc-b0d9c43e65e9",
   "metadata": {},
   "outputs": [
    {
     "data": {
      "image/png": "[encoded data removed]",
      "text/plain": [
       "<rdkit.Chem.rdchem.Mol at 0x7f3724621850>"
      ]
     },
     "execution_count": 21,
     "metadata": {},
     "output_type": "execute_result"
    }
   ],
   "source": [
    "target_mol = Molecule(target_smiles_list[100])\n",
    "target_mol.rdkit_mol"
   ]
  },
  {
   "cell_type": "code",
   "execution_count": 22,
   "id": "5af33f0f-daad-49ea-8d36-2d898fec07d6",
   "metadata": {},
   "outputs": [
    {
     "name": "stdout",
     "output_type": "stream",
     "text": [
      "CPU times: user 14 s, sys: 83.4 ms, total: 14.1 s\n",
      "Wall time: 12.6 s\n"
     ]
    }
   ],
   "source": [
    "%%time\n",
    "# Run retro-star\n",
    "retro_star_alg.reset()\n",
    "retro_star_search_graph, _ = retro_star_alg.run_from_mol(target_mol)"
   ]
  },
  {
   "cell_type": "code",
   "execution_count": 23,
   "id": "d6af0d40-c7fb-48d8-b63c-42762e46976d",
   "metadata": {},
   "outputs": [
    {
     "name": "stdout",
     "output_type": "stream",
     "text": [
      "CPU times: user 14.7 s, sys: 168 ms, total: 14.9 s\n",
      "Wall time: 13.4 s\n"
     ]
    }
   ],
   "source": [
    "%%time\n",
    "# Run MCTS\n",
    "mcts_alg.reset()\n",
    "mcts_search_graph, _ = mcts_alg.run_from_mol(target_mol)"
   ]
  },
  {
   "cell_type": "code",
   "execution_count": 24,
   "id": "2907cca5-c96c-473b-b257-c5f333685b95",
   "metadata": {},
   "outputs": [
    {
     "name": "stdout",
     "output_type": "stream",
     "text": [
      "retro star graph size: 17108\n",
      "mcts graph size: 13380\n"
     ]
    }
   ],
   "source": [
    "# Save graphs\n",
    "import pickle\n",
    "for graph, alg_name in [(retro_star_search_graph, \"retro star\"), (mcts_search_graph, \"mcts\")]:\n",
    "    print(f\"{alg_name} graph size: {len(graph)}\")\n",
    "    with open(f\"search-results-{alg_name}.pkl\", \"wb\") as f:\n",
    "        pickle.dump(graph, f)"
   ]
  }
 ],
 "metadata": {
  "kernelspec": {
   "display_name": "Python 3 (ipykernel)",
   "language": "python",
   "name": "python3"
  },
  "language_info": {
   "codemirror_mode": {
    "name": "ipython",
    "version": 3
   },
   "file_extension": ".py",
   "mimetype": "text/x-python",
   "name": "python",
   "nbconvert_exporter": "python",
   "pygments_lexer": "ipython3",
   "version": "3.10.10"
  }
 },
 "nbformat": 4,
 "nbformat_minor": 5
}
